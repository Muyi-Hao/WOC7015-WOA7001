{
  "nbformat": 4,
  "nbformat_minor": 0,
  "metadata": {
    "colab": {
      "provenance": []
    },
    "kernelspec": {
      "name": "python3",
      "display_name": "Python 3"
    },
    "language_info": {
      "name": "python"
    }
  },
  "cells": [
    {
      "cell_type": "markdown",
      "source": [
        "Optimization Algorithm for Robotic Arm (Genetic Algorithm)"
      ],
      "metadata": {
        "id": "tPtzhrKW5_lx"
      }
    },
    {
      "cell_type": "markdown",
      "source": [
        "Input:\n",
        "\n",
        "\n",
        "1.   Time taken for 1 robot for all completed tasks\n",
        "2.   Number of completed tasks\n",
        "3. Number of remaining tasks\n",
        "\n"
      ],
      "metadata": {
        "id": "HhP9lwuX6G3O"
      }
    },
    {
      "cell_type": "markdown",
      "source": [
        "Output:\n",
        "\n",
        "\n",
        "1.   Number of robots we should use to finish the tasks at optimal time. It will not return more than our available number of robots defined under maxRobots variable.\n",
        "\n"
      ],
      "metadata": {
        "id": "IfHr9id56b0h"
      }
    },
    {
      "cell_type": "markdown",
      "source": [
        "Enhancements (Work-to-do):\n",
        "\n",
        "\n",
        "*   Compute estimated costs\n",
        "*   Compute estimated finish time\n",
        "*   Consider additional variations as variables\n",
        "\n",
        "\n",
        "*   Crossover & mutation functionalities\n",
        "*   Explore different selection method for fitness before adding to new population\n",
        "\n",
        "\n",
        "\n",
        "Once algorithm is finalized, may convert from python to other language\n",
        "\n",
        "\n",
        "Last updated: Sara (07 Jan 2023)\n",
        "\n",
        "\n",
        "\n",
        "\n",
        "\n",
        "\n",
        "\n"
      ],
      "metadata": {
        "id": "VRbCt9YA60A5"
      }
    },
    {
      "cell_type": "code",
      "execution_count": 21,
      "metadata": {
        "id": "beDaMM5129Xk"
      },
      "outputs": [],
      "source": [
        "import random\n",
        "def optimize(timeTaken, numTasks, remainingTasks):\n",
        "  populationSize = 20\n",
        "  maxRobots = 30\n",
        "  mutationRate = 0.1\n",
        "  maxGenerations = 1000\n",
        "  bestSolution = float('inf')\n",
        "  bestChromosome = None\n",
        "\n",
        "  population = []\n",
        "\n",
        "  for i in range(populationSize):\n",
        "    if maxRobots>remainingTasks:\n",
        "      chromosome = random.randint(1,remainingTasks)\n",
        "    else:\n",
        "      chromosome = random.randint(1,maxRobots)\n",
        "    print(\"Chrom \", i, \" :\", chromosome)\n",
        "    population.append(chromosome)\n",
        "\n",
        "  for i in range(maxGenerations):\n",
        "    newPopulation = []\n",
        "    #iterate and evaluate fitness\n",
        "    for chromosome in population:\n",
        "      #time taken for current number of robots\n",
        "      currTimeTaken = timeTaken / chromosome\n",
        "      #total time taken for all tasks\n",
        "      totalTimeTaken = currTimeTaken * (numTasks + remainingTasks)\n",
        "\n",
        "      if totalTimeTaken < bestSolution:\n",
        "        #bestSolution = currTimeTaken\n",
        "        bestSolution = totalTimeTaken\n",
        "        bestChromosome = chromosome\n",
        "\n",
        "        if currTimeTaken < timeTaken:\n",
        "          newPopulation.append(chromosome)\n",
        "  \n",
        "  answer = \"For 1 robot to complete \" + str(numTasks) + \" tasks, it takes \" + str(timeTaken) + \" seconds.\" \n",
        "  answer += \" To complete the remaining \" + str(remainingTasks) + \", we should use \" + str(bestChromosome) + \" robots.\"\n",
        "  return answer #  bestChromosome\n"
      ]
    },
    {
      "cell_type": "code",
      "source": [
        "optimize(600, 10, 10)"
      ],
      "metadata": {
        "colab": {
          "base_uri": "https://localhost:8080/",
          "height": 382
        },
        "id": "r-CAuOFR3CYp",
        "outputId": "bff0a26f-e47c-4990-ce82-ab438d4550b3"
      },
      "execution_count": 27,
      "outputs": [
        {
          "output_type": "stream",
          "name": "stdout",
          "text": [
            "Chrom  0  : 6\n",
            "Chrom  1  : 3\n",
            "Chrom  2  : 8\n",
            "Chrom  3  : 4\n",
            "Chrom  4  : 6\n",
            "Chrom  5  : 9\n",
            "Chrom  6  : 4\n",
            "Chrom  7  : 8\n",
            "Chrom  8  : 6\n",
            "Chrom  9  : 7\n",
            "Chrom  10  : 5\n",
            "Chrom  11  : 10\n",
            "Chrom  12  : 6\n",
            "Chrom  13  : 2\n",
            "Chrom  14  : 9\n",
            "Chrom  15  : 5\n",
            "Chrom  16  : 5\n",
            "Chrom  17  : 7\n",
            "Chrom  18  : 10\n",
            "Chrom  19  : 9\n"
          ]
        },
        {
          "output_type": "execute_result",
          "data": {
            "text/plain": [
              "'For 1 robot to complete 10 tasks, it takes 600 seconds. To complete the remaining 10, we should use 10 robots.'"
            ],
            "application/vnd.google.colaboratory.intrinsic+json": {
              "type": "string"
            }
          },
          "metadata": {},
          "execution_count": 27
        }
      ]
    },
    {
      "cell_type": "code",
      "source": [
        "optimize(600, 10, 30)\n"
      ],
      "metadata": {
        "colab": {
          "base_uri": "https://localhost:8080/",
          "height": 382
        },
        "id": "ltlOC1ty56jy",
        "outputId": "1f0f6be4-5a31-48bd-b02c-d6788d83a84d"
      },
      "execution_count": 28,
      "outputs": [
        {
          "output_type": "stream",
          "name": "stdout",
          "text": [
            "Chrom  0  : 27\n",
            "Chrom  1  : 23\n",
            "Chrom  2  : 26\n",
            "Chrom  3  : 23\n",
            "Chrom  4  : 5\n",
            "Chrom  5  : 6\n",
            "Chrom  6  : 9\n",
            "Chrom  7  : 23\n",
            "Chrom  8  : 8\n",
            "Chrom  9  : 9\n",
            "Chrom  10  : 12\n",
            "Chrom  11  : 19\n",
            "Chrom  12  : 30\n",
            "Chrom  13  : 6\n",
            "Chrom  14  : 6\n",
            "Chrom  15  : 29\n",
            "Chrom  16  : 8\n",
            "Chrom  17  : 28\n",
            "Chrom  18  : 15\n",
            "Chrom  19  : 5\n"
          ]
        },
        {
          "output_type": "execute_result",
          "data": {
            "text/plain": [
              "'For 1 robot to complete 10 tasks, it takes 600 seconds. To complete the remaining 30, we should use 30 robots.'"
            ],
            "application/vnd.google.colaboratory.intrinsic+json": {
              "type": "string"
            }
          },
          "metadata": {},
          "execution_count": 28
        }
      ]
    }
  ]
}