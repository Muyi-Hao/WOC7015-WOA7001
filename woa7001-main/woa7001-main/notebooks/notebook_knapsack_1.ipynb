{
 "cells": [
  {
   "attachments": {},
   "cell_type": "markdown",
   "metadata": {},
   "source": [
    "# Knapsack Algorithm\n",
    "Knapsack algorithm application for material transfer.\n",
    "\n",
    "References:\n",
    "* https://www.geeksforgeeks.org/0-1-knapsack-problem-dp-10/ \n"
   ]
  },
  {
   "attachments": {},
   "cell_type": "markdown",
   "metadata": {},
   "source": [
    "### 0-1 Knapsack Problem using recursion"
   ]
  },
  {
   "cell_type": "code",
   "execution_count": 1,
   "metadata": {},
   "outputs": [],
   "source": [
    "def knapSack(capacity, weight, quantity, n):\n",
    "    \"\"\" A naive recursive implementation of 0-1 Knapsack Problem\n",
    "    Parameters\n",
    "    ----------\n",
    "    capacity : int\n",
    "        Capacity of Knapsack\n",
    "    weight : list<int> \n",
    "        Weight of each object\n",
    "    quantity : list<int>\n",
    "        The quantity of object\n",
    "    n : int\n",
    "        Number of object type / length of the quantity or weight list\n",
    "    Returns\n",
    "    -------\n",
    "    totalWeight: int\n",
    "        Maximum value of that can be put in a knapsack of capacity W\n",
    "    objectIndex: list<int>\n",
    "        A list of integer for the index of object that are chosen. \n",
    "    \"\"\"\n",
    "    # Base Case\n",
    "    if n == 0 or capacity == 0:\n",
    "        return 0, [-999]\n",
    "    # If weight of the nth item is\n",
    "    # more than Knapsack of capacity W,\n",
    "    # then this item cannot be included\n",
    "    # in the optimal solution\n",
    "    totalWeight_init = weight[n-1]*quantity[n-1]\n",
    "    objectIndex_init = [n]\n",
    "    if (totalWeight_init > capacity):\n",
    "        return knapSack(capacity, weight, quantity, n-1)\n",
    "    # return the maximum of two cases:\n",
    "    # (1) nth item included\n",
    "    # (2) not included\n",
    "    else:\n",
    "        totalWeight_case1, objectIndex_case1 = knapSack(capacity-totalWeight_init, weight, quantity, n-1)\n",
    "        totalWeight_case2, objectIndex_case2 = knapSack(capacity, weight, quantity, n-1)\n",
    "        case1_weightCombined = totalWeight_init + totalWeight_case1\n",
    "        case1_objectIndexCombined = objectIndex_init + objectIndex_case1\n",
    "        if case1_weightCombined >= totalWeight_case2:\n",
    "            return case1_weightCombined, case1_objectIndexCombined\n",
    "        else:\n",
    "            return totalWeight_case2, objectIndex_case2"
   ]
  },
  {
   "cell_type": "code",
   "execution_count": 2,
   "metadata": {},
   "outputs": [],
   "source": [
    "def update_quantity(object_index, object_quantity):\n",
    "    for i in object_index:\n",
    "        object_quantity[i-1] = 0\n",
    "    return object_quantity"
   ]
  },
  {
   "cell_type": "code",
   "execution_count": 3,
   "metadata": {},
   "outputs": [],
   "source": [
    "class manufactureLine:\n",
    "    def __init__(self, quantity, weight):\n",
    "        self.quantity = quantity\n",
    "        self.weight = weight"
   ]
  },
  {
   "cell_type": "code",
   "execution_count": 4,
   "metadata": {},
   "outputs": [],
   "source": [
    "# A snapshot of the manufacturing production line situation\n",
    "object_quantity_1 = [3, 1, 2, 1, 2, 5, 7]\n",
    "object_weight_1 = [1, 2, 3, 4, 1, 0.4, 0.2]\n",
    "manufactureLineNum = len(object_quantity_1)\n",
    "factory = manufactureLine(object_quantity_1, object_weight_1)"
   ]
  },
  {
   "cell_type": "code",
   "execution_count": 5,
   "metadata": {},
   "outputs": [],
   "source": [
    "# Robotic arm\n",
    "RAcapacity = 6"
   ]
  },
  {
   "cell_type": "code",
   "execution_count": 6,
   "metadata": {},
   "outputs": [
    {
     "name": "stdout",
     "output_type": "stream",
     "text": [
      "Amount of rice packages taken by Robotic Arm: 6.0 kg.\n",
      "Rice packages taken from production line: [6, 5, 2]\n",
      "The remaining quantity of rice packages on production line: [3, 0, 2, 1, 0, 0, 7]\n"
     ]
    }
   ],
   "source": [
    "weight_taken_RA, object_taken = knapSack(RAcapacity, factory.weight, factory.quantity, manufactureLineNum)\n",
    "object_taken.pop(-1)\n",
    "print(f\"Amount of rice packages taken by Robotic Arm: {weight_taken_RA} kg.\")\n",
    "print(f\"Rice packages taken from production line: {object_taken}\")\n",
    "factory.quantity= update_quantity(object_taken, factory.quantity)\n",
    "print(f\"The remaining quantity of rice packages on production line: {factory.quantity}\")"
   ]
  },
  {
   "cell_type": "code",
   "execution_count": 7,
   "metadata": {},
   "outputs": [
    {
     "name": "stdout",
     "output_type": "stream",
     "text": [
      "Amount of rice packages taken by Robotic Arm: 6.0 kg.\n",
      "Rice packages taken from production line: [6, 5, 3]\n",
      "The remaining quantity of rice packages on production line: [3, 0, 0, 1, 0, 0, 7]\n"
     ]
    }
   ],
   "source": [
    "weight_taken_RA, object_taken = knapSack(RAcapacity, factory.weight, factory.quantity, manufactureLineNum)\n",
    "object_taken.pop(-1)\n",
    "print(f\"Amount of rice packages taken by Robotic Arm: {weight_taken_RA} kg.\")\n",
    "print(f\"Rice packages taken from production line: {object_taken}\")\n",
    "factory.quantity= update_quantity(object_taken, factory.quantity)\n",
    "print(f\"The remaining quantity of rice packages on production line: {factory.quantity}\")"
   ]
  },
  {
   "cell_type": "code",
   "execution_count": 8,
   "metadata": {},
   "outputs": [
    {
     "name": "stdout",
     "output_type": "stream",
     "text": [
      "5.4\n",
      "[7, 6, 5, 4, 3, 2]\n",
      "[3, 0, 0, 0, 0, 0, 0]\n"
     ]
    }
   ],
   "source": [
    "weight_taken_RA, object_taken = knapSack(RAcapacity, factory.weight, factory.quantity, manufactureLineNum)\n",
    "object_taken.pop(-1)\n",
    "print(f\"Amount of rice packages taken by Robotic Arm: {weight_taken_RA} kg.\")\n",
    "print(f\"Rice packages taken from production line: {object_taken}\")\n",
    "factory.quantity= update_quantity(object_taken, factory.quantity)\n",
    "print(f\"The remaining quantity of rice packages on production line: {factory.quantity}\")"
   ]
  },
  {
   "cell_type": "code",
   "execution_count": 9,
   "metadata": {},
   "outputs": [
    {
     "name": "stdout",
     "output_type": "stream",
     "text": [
      "3.0\n",
      "[7, 6, 5, 4, 3, 2, 1]\n",
      "[0, 0, 0, 0, 0, 0, 0]\n"
     ]
    }
   ],
   "source": [
    "weight_taken_RA, object_taken = knapSack(RAcapacity, factory.weight, factory.quantity, manufactureLineNum)\n",
    "object_taken.pop(-1)\n",
    "print(f\"Amount of rice packages taken by Robotic Arm: {weight_taken_RA} kg.\")\n",
    "print(f\"Rice packages taken from production line: {object_taken}\")\n",
    "factory.quantity= update_quantity(object_taken, factory.quantity)\n",
    "print(f\"The remaining quantity of rice packages on production line: {factory.quantity}\")"
   ]
  },
  {
   "cell_type": "code",
   "execution_count": 10,
   "metadata": {},
   "outputs": [
    {
     "name": "stdout",
     "output_type": "stream",
     "text": [
      "0.0\n",
      "[7, 6, 5, 4, 3, 2, 1]\n",
      "[0, 0, 0, 0, 0, 0, 0]\n"
     ]
    }
   ],
   "source": [
    "weight_taken_RA, object_taken = knapSack(RAcapacity, factory.weight, factory.quantity, manufactureLineNum)\n",
    "object_taken.pop(-1)\n",
    "print(f\"Amount of rice packages taken by Robotic Arm: {weight_taken_RA} kg.\")\n",
    "print(f\"Rice packages taken from production line: {object_taken}\")\n",
    "factory.quantity= update_quantity(object_taken, factory.quantity)\n",
    "print(f\"The remaining quantity of rice packages on production line: {factory.quantity}\")"
   ]
  }
 ],
 "metadata": {
  "kernelspec": {
   "display_name": "Python 3",
   "language": "python",
   "name": "python3"
  },
  "language_info": {
   "codemirror_mode": {
    "name": "ipython",
    "version": 3
   },
   "file_extension": ".py",
   "mimetype": "text/x-python",
   "name": "python",
   "nbconvert_exporter": "python",
   "pygments_lexer": "ipython3",
   "version": "3.10.6"
  },
  "orig_nbformat": 4,
  "vscode": {
   "interpreter": {
    "hash": "1a6f82ba1b6aeaef8e8c0a00ddca96c81079a464df796276caea7baa85ea39b9"
   }
  }
 },
 "nbformat": 4,
 "nbformat_minor": 2
}
